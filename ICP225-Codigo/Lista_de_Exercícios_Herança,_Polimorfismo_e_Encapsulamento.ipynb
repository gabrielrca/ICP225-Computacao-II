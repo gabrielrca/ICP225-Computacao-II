{
  "nbformat": 4,
  "nbformat_minor": 0,
  "metadata": {
    "colab": {
      "provenance": [],
      "collapsed_sections": [
        "nHRTt6OqKVet",
        "Dni-4M7nazgR",
        "DCeWsrUDbcDu"
      ]
    },
    "kernelspec": {
      "name": "python3",
      "display_name": "Python 3"
    },
    "language_info": {
      "name": "python"
    }
  },
  "cells": [
    {
      "cell_type": "markdown",
      "source": [
        "#Questão 1"
      ],
      "metadata": {
        "id": "CWJUHV_5J-jF"
      }
    },
    {
      "cell_type": "markdown",
      "source": [
        "Crie a classe Item com os atributos privados: título, nomePessoa, telefonePessoa e\n",
        "dataEmprestimo, com seus getters (função para consultar valor) e setters (função para colocar valor) públicos.\n",
        "\n"
      ],
      "metadata": {
        "id": "ZYeknIoeIJrA"
      }
    },
    {
      "cell_type": "code",
      "execution_count": 1,
      "metadata": {
        "id": "w97HyFF9H8Iu"
      },
      "outputs": [],
      "source": [
        "class Item:\n",
        "    def __init__(self, titulo, nomePessoa, telefonePessoa, dataEmprestimo):\n",
        "        self.__titulo = titulo\n",
        "        self.__nomePessoa = nomePessoa\n",
        "        self.__telefonePessoa = telefonePessoa\n",
        "        self.__dataEmprestimo = dataEmprestimo\n",
        "\n",
        "    def get_titulo(self):\n",
        "        return self.__titulo\n",
        "\n",
        "    def set_titulo(self, titulo):\n",
        "        self.__titulo = titulo\n",
        "\n",
        "    def get_nomePessoa(self):\n",
        "        return self.__nomePessoa\n",
        "\n",
        "    def set_nomePessoa(self, nomePessoa):\n",
        "        self.__nomePessoa = nomePessoa\n",
        "\n",
        "    def get_telefonePessoa(self):\n",
        "        return self.__telefonePessoa\n",
        "\n",
        "    def set_telefonePessoa(self, telefonePessoa):\n",
        "        self.__telefonePessoa = telefonePessoa\n",
        "\n",
        "    def get_dataEmprestimo(self):\n",
        "        return self.__dataEmprestimo\n",
        "\n",
        "    def set_dataEmprestimo(self, dataEmprestimo):\n",
        "        self.__dataEmprestimo = dataEmprestimo\n",
        "\n",
        "    def __str__(self):\n",
        "        return f\"Título: {self.__titulo}, Pessoa: {self.__nomePessoa}, Telefone: {self.__telefonePessoa}, Data: {self.__dataEmprestimo}\""
      ]
    },
    {
      "cell_type": "markdown",
      "source": [
        "Crie a classe Livro e a classe CD, que herdem de Item e tenham os atributos     autor e artista, respectivamente, também privados, com getters e setters públicos.\n",
        "\n",
        "Livros devem ter número de páginas\n",
        "\n",
        "CDs devem ter quantidade de faixas"
      ],
      "metadata": {
        "id": "F1oqu6C8IebI"
      }
    },
    {
      "cell_type": "code",
      "source": [
        "class Livro(Item):\n",
        "    def __init__(self, titulo, nomePessoa, telefonePessoa, dataEmprestimo, autor, num_paginas):\n",
        "        super().__init__(titulo, nomePessoa, telefonePessoa, dataEmprestimo)\n",
        "        self.__autor = autor\n",
        "        self.__num_paginas = num_paginas\n",
        "\n",
        "    def get_autor(self):\n",
        "        return self.__autor\n",
        "\n",
        "    def set_autor(self, autor):\n",
        "        self.__autor = autor\n",
        "\n",
        "    def get_num_paginas(self):\n",
        "        return self.__num_paginas\n",
        "\n",
        "    def set_num_paginas(self, num_paginas):\n",
        "        self.__num_paginas = num_paginas\n",
        "\n",
        "    def __str__(self):\n",
        "        return super().__str__() + f\", Autor: {self.__autor}, Páginas: {self.__num_paginas}\"\n"
      ],
      "metadata": {
        "id": "Qw2Q5g6PImWe"
      },
      "execution_count": 2,
      "outputs": []
    },
    {
      "cell_type": "code",
      "source": [
        "class CD(Item):\n",
        "    def __init__(self, titulo, nomePessoa, telefonePessoa, dataEmprestimo, artista, num_faixas):\n",
        "        super().__init__(titulo, nomePessoa, telefonePessoa, dataEmprestimo)\n",
        "        self.__artista = artista\n",
        "        self.__num_faixas = num_faixas\n",
        "\n",
        "    def get_artista(self):\n",
        "        return self.__artista\n",
        "\n",
        "    def set_artista(self, artista):\n",
        "        self.__artista = artista\n",
        "\n",
        "    def get_num_faixas(self):\n",
        "        return self.__num_faixas\n",
        "\n",
        "    def set_num_faixas(self, num_faixas):\n",
        "        self.__num_faixas = num_faixas\n",
        "\n",
        "    def __str__(self):\n",
        "        return super().__str__() + f\", Artista: {self.__artista}, Faixas: {self.__num_faixas}\"\n",
        "\n"
      ],
      "metadata": {
        "id": "U5upiDU6IrP1"
      },
      "execution_count": 3,
      "outputs": []
    },
    {
      "cell_type": "markdown",
      "source": [
        "Em uma lista, coloque pelo menos 3 itens diferentes e cada tipo, emprestados para pessoas diferentes."
      ],
      "metadata": {
        "id": "dfdxiqQk9LLz"
      }
    },
    {
      "cell_type": "code",
      "source": [
        "livro1 = Livro(\"Redes de Computadores\", \"Maria\", \"98888-1111\", \"2025-08-24\", \"Andrew Tanenbaum\", 864)\n",
        "livro2 = Livro(\"Engenharia de Software\", \"João\", \"97777-2222\", \"2025-08-20\", \"Ian Sommerville\", 850)\n",
        "livro3 = Livro(\"Introdução à Segurança da Informação\", \"Carla\", \"96666-3333\", \"2025-08-22\", \"William Stallings\", 540)\n",
        "\n",
        "cd1 = CD(\"Greatest Hits\", \"Pedro\", \"95555-4444\", \"2025-08-19\", \"Queen\", 17)\n",
        "cd2 = CD(\"The Dark Side of the Moon\", \"Ana\", \"94444-5555\", \"2025-08-21\", \"Pink Floyd\", 10)\n",
        "cd3 = CD(\"Back in Black\", \"Lucas\", \"93333-6666\", \"2025-08-23\", \"AC/DC\", 12)\n",
        "\n",
        "itens = [livro1, livro2, livro3, cd1, cd2, cd3]"
      ],
      "metadata": {
        "id": "oOWWYadeJijU"
      },
      "execution_count": 4,
      "outputs": []
    },
    {
      "cell_type": "markdown",
      "source": [
        "Percorra essa lista imprimindo o que foi emprestado, para quem e quando e os seus atributos"
      ],
      "metadata": {
        "id": "fGkxSJc7J6db"
      }
    },
    {
      "cell_type": "code",
      "source": [
        "for item in itens:\n",
        "    print(item)"
      ],
      "metadata": {
        "colab": {
          "base_uri": "https://localhost:8080/"
        },
        "id": "4a1gM-IpJw1J",
        "outputId": "1d8d7645-3168-47eb-e91d-9ab4425028d2"
      },
      "execution_count": 5,
      "outputs": [
        {
          "output_type": "stream",
          "name": "stdout",
          "text": [
            "Título: Redes de Computadores, Pessoa: Maria, Telefone: 98888-1111, Data: 2025-08-24, Autor: Andrew Tanenbaum, Páginas: 864\n",
            "Título: Engenharia de Software, Pessoa: João, Telefone: 97777-2222, Data: 2025-08-20, Autor: Ian Sommerville, Páginas: 850\n",
            "Título: Introdução à Segurança da Informação, Pessoa: Carla, Telefone: 96666-3333, Data: 2025-08-22, Autor: William Stallings, Páginas: 540\n",
            "Título: Greatest Hits, Pessoa: Pedro, Telefone: 95555-4444, Data: 2025-08-19, Artista: Queen, Faixas: 17\n",
            "Título: The Dark Side of the Moon, Pessoa: Ana, Telefone: 94444-5555, Data: 2025-08-21, Artista: Pink Floyd, Faixas: 10\n",
            "Título: Back in Black, Pessoa: Lucas, Telefone: 93333-6666, Data: 2025-08-23, Artista: AC/DC, Faixas: 12\n"
          ]
        }
      ]
    },
    {
      "cell_type": "markdown",
      "source": [
        "#Questão 2"
      ],
      "metadata": {
        "id": "nHRTt6OqKVet"
      }
    },
    {
      "cell_type": "markdown",
      "source": [
        "Crie a classe Forma com os atributos privados: nome, cor, espessuraBorda e\n",
        "dataCriacao, com seus getters (função para consultar valor) e setters (função para colocar valor) públicos."
      ],
      "metadata": {
        "id": "UfnnolGMLE0q"
      }
    },
    {
      "cell_type": "code",
      "source": [
        "class Forma:\n",
        "    def __init__(self, nome, cor, espessuraBorda, dataCriacao):\n",
        "        self.__nome = nome\n",
        "        self.__cor = cor\n",
        "        self.__espessuraBorda = espessuraBorda\n",
        "        self.__dataCriacao = dataCriacao\n",
        "\n",
        "    def get_nome(self):\n",
        "        return self.__nome\n",
        "\n",
        "    def set_nome(self, nome):\n",
        "        self.__nome = nome\n",
        "\n",
        "    def get_cor(self):\n",
        "        return self.__cor\n",
        "\n",
        "    def set_cor(self, cor):\n",
        "        self.__cor = cor\n",
        "\n",
        "    def get_espessuraBorda(self):\n",
        "        return self.__espessuraBorda\n",
        "\n",
        "    def set_espessuraBorda(self, espessuraBorda):\n",
        "        self.__espessuraBorda = espessuraBorda\n",
        "\n",
        "    def get_dataCriacao(self):\n",
        "        return self.__dataCriacao\n",
        "\n",
        "    def set_dataCriacao(self, dataCriacao):\n",
        "        self.__dataCriacao = dataCriacao\n",
        "\n",
        "    def __str__(self):\n",
        "        return f\"Forma: {self.__nome}, Cor: {self.__cor}, Espessura da Borda: {self.__espessuraBorda}, Criada em: {self.__dataCriacao}\"\n"
      ],
      "metadata": {
        "id": "VYybcONdKXr2"
      },
      "execution_count": 6,
      "outputs": []
    },
    {
      "cell_type": "markdown",
      "source": [
        "Crie a classe Retangulo e a classe Circulo, que herdem de Forma e tenham os atributos largura e altura para Retângulo, e raio para Círculo, também privados, com getters e setters públicos.\n",
        "\n",
        "Retângulos devem ter um método para calcular área (largura x altura)\n",
        "\n",
        "Círculos devem ter um método para calcular área (pi x raio^2)\n",
        "\n",
        "Retângulos devem ter um método para calcular perímetro (2 x (largura + altura))\n",
        "\n",
        "Círculos devem ter um método para calcular perímetro (2 x pi x raio)"
      ],
      "metadata": {
        "id": "6M97tdUfLjcw"
      }
    },
    {
      "cell_type": "code",
      "source": [
        "class Retangulo(Forma):\n",
        "    def __init__(self, nome, cor, espessuraBorda, dataCriacao, largura, altura):\n",
        "        super().__init__(nome, cor, espessuraBorda, dataCriacao)\n",
        "        self.__largura = largura\n",
        "        self.__altura = altura\n",
        "\n",
        "    def get_largura(self):\n",
        "        return self.__largura\n",
        "\n",
        "    def set_largura(self, largura):\n",
        "        self.__largura = largura\n",
        "\n",
        "    def get_altura(self):\n",
        "        return self.__altura\n",
        "\n",
        "    def set_altura(self, altura):\n",
        "        self.__altura = altura\n",
        "\n",
        "    def calcular_area(self):\n",
        "        return self.__largura * self.__altura\n",
        "\n",
        "    def calcular_perimetro(self):\n",
        "        return 2 * (self.__largura + self.__altura)\n",
        "\n",
        "    def __str__(self):\n",
        "        return (super().__str__() +\n",
        "                f\", Largura: {self.__largura}, Altura: {self.__altura}, \"\n",
        "                f\"Área: {self.calcular_area()}, Perímetro: {self.calcular_perimetro()}\")\n"
      ],
      "metadata": {
        "id": "6to-bI0sLhNy"
      },
      "execution_count": 7,
      "outputs": []
    },
    {
      "cell_type": "code",
      "source": [
        "class Circulo(Forma):\n",
        "    def __init__(self, nome, cor, espessuraBorda, dataCriacao, raio):\n",
        "        super().__init__(nome, cor, espessuraBorda, dataCriacao)\n",
        "        self.set_raio(raio)\n",
        "        self.__pi = 3.14\n",
        "\n",
        "    def get_raio(self):\n",
        "        return self.__raio\n",
        "\n",
        "    def set_raio(self, raio):\n",
        "        self.__raio = raio\n",
        "\n",
        "    def calcular_area(self):\n",
        "        return self.__pi * (self.__raio ** 2)\n",
        "\n",
        "    def calcular_perimetro(self):\n",
        "        return 2 * self.__pi * self.__raio\n",
        "\n",
        "    def __str__(self):\n",
        "        return (super().__str__() +\n",
        "                f\", Raio: {self.__raio}, \"\n",
        "                f\"Área: {self.calcular_area():.2f}, Perímetro: {self.calcular_perimetro():.2f}\")"
      ],
      "metadata": {
        "id": "IoItbOVnL-mw"
      },
      "execution_count": 8,
      "outputs": []
    },
    {
      "cell_type": "code",
      "source": [
        "ret = Retangulo(\"Retângulo\", \"Azul\", 1, \"2025-08-24\", 5, 3)\n",
        "print(ret)\n",
        "\n",
        "circ = Circulo(\"Círculo\", \"Vermelho\", 2, \"2025-08-24\", 4)\n",
        "print(circ)"
      ],
      "metadata": {
        "colab": {
          "base_uri": "https://localhost:8080/"
        },
        "id": "LUc5cS0NMSoR",
        "outputId": "5c7431d4-1c28-4932-dba4-afe2534e1a2f"
      },
      "execution_count": 9,
      "outputs": [
        {
          "output_type": "stream",
          "name": "stdout",
          "text": [
            "Forma: Retângulo, Cor: Azul, Espessura da Borda: 1, Criada em: 2025-08-24, Largura: 5, Altura: 3, Área: 15, Perímetro: 16\n",
            "Forma: Círculo, Cor: Vermelho, Espessura da Borda: 2, Criada em: 2025-08-24, Raio: 4, Área: 50.24, Perímetro: 25.12\n"
          ]
        }
      ]
    },
    {
      "cell_type": "markdown",
      "source": [
        "Crie diferentes formas geométricas\n",
        "\n",
        "Sinta-se livre para criar formas que você quiser"
      ],
      "metadata": {
        "id": "TKO1NzwQZtlm"
      }
    },
    {
      "cell_type": "code",
      "source": [
        "class Quadrado(Retangulo):\n",
        "    def __init__(self, nome, cor, espessuraBorda, dataCriacao, lado):\n",
        "        super().__init__(nome, cor, espessuraBorda, dataCriacao, lado, lado)\n",
        "\n",
        "    def __str__(self):\n",
        "        return super().__str__() + \" (Quadrado)\"\n"
      ],
      "metadata": {
        "id": "VOgcPkb3ZTOW"
      },
      "execution_count": 10,
      "outputs": []
    },
    {
      "cell_type": "code",
      "source": [
        "q = Quadrado(\"Quadrado\", \"Amarelo\", 2, \"2025-08-24\", 4)\n",
        "print(q)\n",
        "print(\"Área:\", q.calcular_area())\n",
        "print(\"Perímetro:\", q.calcular_perimetro())"
      ],
      "metadata": {
        "colab": {
          "base_uri": "https://localhost:8080/"
        },
        "id": "uh-cVjyQZbcM",
        "outputId": "71805ba9-84c8-4bd0-df1e-bc5f8940de3f"
      },
      "execution_count": 11,
      "outputs": [
        {
          "output_type": "stream",
          "name": "stdout",
          "text": [
            "Forma: Quadrado, Cor: Amarelo, Espessura da Borda: 2, Criada em: 2025-08-24, Largura: 4, Altura: 4, Área: 16, Perímetro: 16 (Quadrado)\n",
            "Área: 16\n",
            "Perímetro: 16\n"
          ]
        }
      ]
    },
    {
      "cell_type": "markdown",
      "source": [
        "#Questão 3"
      ],
      "metadata": {
        "id": "Dni-4M7nazgR"
      }
    },
    {
      "cell_type": "markdown",
      "source": [
        "Crie a classe Funcionario com os atributos privados: nome, cpf, telefone e\n",
        "salario, com seus getters (função para consultar valor) e setters (função para\n",
        "colocar valor) públicos.\n",
        "1. Crie a classe Gerente e a classe Estagiario, que herdem de Funcionario.\n",
        "2. Gerentes devem ter o atributo privado departamento e estagiários de-\n",
        "vem ter o atributo privado universidade, ambos com getters e setters\n",
        "públicos.\n",
        "3. Gerentes devem ter um método para escrever seu nome, cpf, telefone,\n",
        "salario e departamento.\n",
        "4. Estagiários devem ter um método para escrever seu nome, cpf, telefone,\n",
        "salario e universidade.\n",
        "5. Utilize o polimorfism"
      ],
      "metadata": {
        "id": "76v0q7ZcabMO"
      }
    },
    {
      "cell_type": "code",
      "source": [
        "class Funcionario:\n",
        "    def __init__(self, nome, cpf, telefone, salario):\n",
        "        self.__nome = nome\n",
        "        self.__cpf = cpf\n",
        "        self.__telefone = telefone\n",
        "        self.__salario = salario\n",
        "\n",
        "    def get_nome(self):\n",
        "        return self.__nome\n",
        "\n",
        "    def set_nome(self, nome):\n",
        "        self.__nome = nome\n",
        "\n",
        "    def get_cpf(self):\n",
        "        return self.__cpf\n",
        "\n",
        "    def set_cpf(self, cpf):\n",
        "        self.__cpf = cpf\n",
        "\n",
        "    def get_telefone(self):\n",
        "        return self.__telefone\n",
        "\n",
        "    def set_telefone(self, telefone):\n",
        "        self.__telefone = telefone\n",
        "\n",
        "    def get_salario(self):\n",
        "        return self.__salario\n",
        "\n",
        "    def set_salario(self, salario):\n",
        "        self.__salario = salario\n",
        "\n",
        "    def __str__(self):\n",
        "        return f\"Nome: {self.__nome}, CPF: {self.__cpf}, Telefone: {self.__telefone}, Salário: {self.__salario}\"\n",
        "\n",
        "\n",
        "class Gerente(Funcionario):\n",
        "    def __init__(self, nome, cpf, telefone, salario, departamento):\n",
        "        super().__init__(nome, cpf, telefone, salario)\n",
        "        self.__departamento = departamento\n",
        "\n",
        "    def get_departamento(self):\n",
        "        return self.__departamento\n",
        "\n",
        "    def set_departamento(self, departamento):\n",
        "        self.__departamento = departamento\n",
        "\n",
        "    def __str__(self):\n",
        "        return super().__str__() + f\", Departamento: {self.__departamento}\"\n",
        "\n",
        "\n",
        "class Estagiario(Funcionario):\n",
        "    def __init__(self, nome, cpf, telefone, salario, universidade):\n",
        "        super().__init__(nome, cpf, telefone, salario)\n",
        "        self.__universidade = universidade\n",
        "\n",
        "    def get_universidade(self):\n",
        "        return self.__universidade\n",
        "\n",
        "    def set_universidade(self, universidade):\n",
        "        self.__universidade = universidade\n",
        "\n",
        "    def __str__(self):\n",
        "        return super().__str__() + f\", Universidade: {self.__universidade}\"\n"
      ],
      "metadata": {
        "id": "JVszMnRSaXN7"
      },
      "execution_count": 12,
      "outputs": []
    },
    {
      "cell_type": "code",
      "source": [
        "funcionarios = [\n",
        "    Gerente(\"Carlos Silva\", \"123.456.789-00\", \"98888-1111\", 12000, \"TI\"),\n",
        "    Gerente(\"Ana Souza\", \"987.654.321-00\", \"97777-2222\", 15000, \"Financeiro\"),\n",
        "    Estagiario(\"João Pedro\", \"111.222.333-44\", \"96666-3333\", 1500, \"UFRJ\"),\n",
        "    Estagiario(\"Mariana Lima\", \"555.666.777-88\", \"95555-4444\", 1800, \"PUC-RJ\")\n",
        "]\n",
        "\n",
        "for f in funcionarios:\n",
        "    print(f)"
      ],
      "metadata": {
        "colab": {
          "base_uri": "https://localhost:8080/"
        },
        "id": "0uoEb4zlavQI",
        "outputId": "028f63d8-c634-46b9-edb9-2dba866aa9ff"
      },
      "execution_count": 13,
      "outputs": [
        {
          "output_type": "stream",
          "name": "stdout",
          "text": [
            "Nome: Carlos Silva, CPF: 123.456.789-00, Telefone: 98888-1111, Salário: 12000, Departamento: TI\n",
            "Nome: Ana Souza, CPF: 987.654.321-00, Telefone: 97777-2222, Salário: 15000, Departamento: Financeiro\n",
            "Nome: João Pedro, CPF: 111.222.333-44, Telefone: 96666-3333, Salário: 1500, Universidade: UFRJ\n",
            "Nome: Mariana Lima, CPF: 555.666.777-88, Telefone: 95555-4444, Salário: 1800, Universidade: PUC-RJ\n"
          ]
        }
      ]
    },
    {
      "cell_type": "markdown",
      "source": [
        "#Questão 4"
      ],
      "metadata": {
        "id": "DCeWsrUDbcDu"
      }
    },
    {
      "cell_type": "markdown",
      "source": [
        "Crie a classe Veiculo com os atributos privados: marca, modelo, ano e preco,\n",
        "com seus getters (função para consultar valor) e setters (função para colocar\n",
        "valor) públicos.\n",
        "1. Crie a classe Carro e a classe Moto, que herdem de Veiculo.\n",
        "2. Carros devem ter o atributo privado quantidadePortas, enquanto motos\n",
        "devem ter o atributo privado cilindrada, ambos com getters e setters\n",
        "públicos.\n",
        "3. Carros devem ter um método para calcular o valor do seguro (5% do\n",
        "preçoo).\n",
        "4. Motos devem ter um método para calcular o valor do seguro (3% do preço)."
      ],
      "metadata": {
        "id": "VMA3ZPJxbRef"
      }
    },
    {
      "cell_type": "code",
      "source": [
        "class Veiculo:\n",
        "    def __init__(self, marca, modelo, ano, preco):\n",
        "        self.__marca = marca\n",
        "        self.__modelo = modelo\n",
        "        self.__ano = ano\n",
        "        self.__preco = preco\n",
        "\n",
        "    def get_marca(self):\n",
        "        return self.__marca\n",
        "\n",
        "    def set_marca(self, marca):\n",
        "        self.__marca = marca\n",
        "\n",
        "    def get_modelo(self):\n",
        "        return self.__modelo\n",
        "\n",
        "    def set_modelo(self, modelo):\n",
        "        self.__modelo = modelo\n",
        "\n",
        "    def get_ano(self):\n",
        "        return self.__ano\n",
        "\n",
        "    def set_ano(self, ano):\n",
        "        self.__ano = ano\n",
        "\n",
        "    def get_preco(self):\n",
        "        return self.__preco\n",
        "\n",
        "    def set_preco(self, preco):\n",
        "        self.__preco = preco\n",
        "\n",
        "    def __str__(self):\n",
        "        return f\"Marca: {self.__marca}, Modelo: {self.__modelo}, Ano: {self.__ano}, Preço: {self.__preco}\"\n",
        "\n",
        "\n",
        "class Carro(Veiculo):\n",
        "    def __init__(self, marca, modelo, ano, preco, quantidadePortas):\n",
        "        super().__init__(marca, modelo, ano, preco)\n",
        "        self.__quantidadePortas = quantidadePortas\n",
        "\n",
        "    def get_quantidadePortas(self):\n",
        "        return self.__quantidadePortas\n",
        "\n",
        "    def set_quantidadePortas(self, quantidadePortas):\n",
        "        self.__quantidadePortas = quantidadePortas\n",
        "\n",
        "    def calcular_seguro(self):\n",
        "        return self.get_preco() * 0.05\n",
        "\n",
        "    def __str__(self):\n",
        "        return super().__str__() + f\", Portas: {self.__quantidadePortas}, Seguro: {self.calcular_seguro():.2f}\"\n",
        "\n",
        "\n",
        "class Moto(Veiculo):\n",
        "    def __init__(self, marca, modelo, ano, preco, cilindrada):\n",
        "        super().__init__(marca, modelo, ano, preco)\n",
        "        self.__cilindrada = cilindrada\n",
        "\n",
        "    def get_cilindrada(self):\n",
        "        return self.__cilindrada\n",
        "\n",
        "    def set_cilindrada(self, cilindrada):\n",
        "        self.__cilindrada = cilindrada\n",
        "\n",
        "    def calcular_seguro(self):\n",
        "        return self.get_preco() * 0.03\n",
        "\n",
        "    def __str__(self):\n",
        "        return super().__str__() + f\", Cilindrada: {self.__cilindrada}, Seguro: {self.calcular_seguro():.2f}\"\n"
      ],
      "metadata": {
        "id": "QNfrYRqra_9D"
      },
      "execution_count": 14,
      "outputs": []
    },
    {
      "cell_type": "code",
      "source": [
        "veiculos = [\n",
        "    Carro(\"Toyota\", \"Corolla\", 2022, 120000, 4),\n",
        "    Carro(\"Honda\", \"Civic\", 2023, 130000, 4),\n",
        "    Moto(\"Yamaha\", \"MT-07\", 2022, 35000, 689),\n",
        "    Moto(\"Honda\", \"CB500F\", 2023, 30000, 500)\n",
        "]\n",
        "\n",
        "for v in veiculos:\n",
        "    print(v)\n"
      ],
      "metadata": {
        "colab": {
          "base_uri": "https://localhost:8080/"
        },
        "id": "zUsIGHN-bKRJ",
        "outputId": "790da809-e7d4-41d1-f0ca-8b66a4de419e"
      },
      "execution_count": 15,
      "outputs": [
        {
          "output_type": "stream",
          "name": "stdout",
          "text": [
            "Marca: Toyota, Modelo: Corolla, Ano: 2022, Preço: 120000, Portas: 4, Seguro: 6000.00\n",
            "Marca: Honda, Modelo: Civic, Ano: 2023, Preço: 130000, Portas: 4, Seguro: 6500.00\n",
            "Marca: Yamaha, Modelo: MT-07, Ano: 2022, Preço: 35000, Cilindrada: 689, Seguro: 1050.00\n",
            "Marca: Honda, Modelo: CB500F, Ano: 2023, Preço: 30000, Cilindrada: 500, Seguro: 900.00\n"
          ]
        }
      ]
    },
    {
      "cell_type": "markdown",
      "source": [
        "#Questão 5"
      ],
      "metadata": {
        "id": "XRvGaeZHcwOz"
      }
    },
    {
      "cell_type": "markdown",
      "source": [
        "5 Animais\n",
        "Crie a classe Animal com os atributos privados: nome e idade, com seus getters\n",
        "e setters públicos, e um método emitir som() que imprime um som genérico.\n",
        "1. Crie as classes Cachorro, Gato e Pato, que herdem de Animal e sobrescrevam o método emitir som() para imprimir sons específicos: ”auau”,\n",
        "”miau” e ”quack”, respectivamente.\n",
        "2. Crie uma lista contendo pelo menos uma instância de cada tipo de animal.\n",
        "3. Percorra a lista chamando o método emitir som() de cada animal, demon-\n",
        "strando polimorfismo.\n",
        "4. Crie um método adicional apresentar() na classe Animal que imprime\n",
        "o nome e a idade, e sobrescreva esse método nas subclasses para incluir\n",
        "uma mensagem específica de cada animal."
      ],
      "metadata": {
        "id": "GjsjkrS4cmFF"
      }
    },
    {
      "cell_type": "code",
      "source": [
        "class Animal:\n",
        "    def __init__(self, nome, idade):\n",
        "        self.__nome = nome\n",
        "        self.__idade = idade\n",
        "\n",
        "    def get_nome(self):\n",
        "        return self.__nome\n",
        "\n",
        "    def set_nome(self, nome):\n",
        "        self.__nome = nome\n",
        "\n",
        "    def get_idade(self):\n",
        "        return self.__idade\n",
        "\n",
        "    def set_idade(self, idade):\n",
        "        self.__idade = idade\n",
        "\n",
        "    def emitir_som(self):\n",
        "        print(\"arrr\")\n",
        "\n",
        "    def apresentar(self):\n",
        "        print(f\"Olá! Sou um pet e meu nome é {self.__nome} e tenho {self.__idade} anos.\")\n",
        "\n",
        "\n",
        "class Cachorro(Animal):\n",
        "    def emitir_som(self):\n",
        "        print(\"auau\")\n",
        "\n",
        "    def apresentar(self):\n",
        "        print(f\"Olá! Eu sou um cachorro chamado {self.get_nome()} e tenho {self.get_idade()} anos.\")\n",
        "\n",
        "\n",
        "class Gato(Animal):\n",
        "    def emitir_som(self):\n",
        "        print(\"miau\")\n",
        "\n",
        "    def apresentar(self):\n",
        "        print(f\"Olá! Eu sou um gato chamado {self.get_nome()} e tenho {self.get_idade()} anos.\")\n",
        "\n",
        "\n",
        "class Pato(Animal):\n",
        "    def emitir_som(self):\n",
        "        print(\"quack\")\n",
        "\n",
        "    def apresentar(self):\n",
        "        print(f\"Olá! Eu sou um pato chamado {self.get_nome()} e tenho {self.get_idade()} anos.\")\n"
      ],
      "metadata": {
        "id": "0Rees1Obb2Ez"
      },
      "execution_count": 16,
      "outputs": []
    },
    {
      "cell_type": "code",
      "source": [
        "animais = [\n",
        "    Cachorro(\"Rex\", 5),\n",
        "    Gato(\"Mimi\", 3),\n",
        "    Pato(\"Donald\", 2),\n",
        "    Animal(\"Bolota\", 5)\n",
        "]\n",
        "\n",
        "# Chamando emitir_som() (polimorfismo)\n",
        "for a in animais:\n",
        "    a.emitir_som()\n",
        "    a.apresentar()\n",
        "\n",
        "\n"
      ],
      "metadata": {
        "colab": {
          "base_uri": "https://localhost:8080/"
        },
        "id": "mLH7ODUIb9lQ",
        "outputId": "cbf4b114-4515-494b-993d-8e48b0127c83"
      },
      "execution_count": 17,
      "outputs": [
        {
          "output_type": "stream",
          "name": "stdout",
          "text": [
            "auau\n",
            "Olá! Eu sou um cachorro chamado Rex e tenho 5 anos.\n",
            "miau\n",
            "Olá! Eu sou um gato chamado Mimi e tenho 3 anos.\n",
            "quack\n",
            "Olá! Eu sou um pato chamado Donald e tenho 2 anos.\n",
            "arrr\n",
            "Olá! Sou um pet e meu nome é Bolota e tenho 5 anos.\n"
          ]
        }
      ]
    }
  ]
}