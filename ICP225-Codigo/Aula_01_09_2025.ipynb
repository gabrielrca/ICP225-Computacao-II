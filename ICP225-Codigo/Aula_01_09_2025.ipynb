{
  "cells": [
    {
      "cell_type": "code",
      "execution_count": 10,
      "metadata": {
        "id": "LpVlaU-W_AfC"
      },
      "outputs": [],
      "source": [
        "def func(a,b):\n",
        "  return a*a + b"
      ]
    },
    {
      "cell_type": "code",
      "execution_count": 11,
      "metadata": {
        "id": "SOFkhYAq_HnR"
      },
      "outputs": [],
      "source": [
        "c = func(2,2)"
      ]
    },
    {
      "cell_type": "code",
      "execution_count": 12,
      "metadata": {
        "colab": {
          "base_uri": "https://localhost:8080/"
        },
        "id": "GwnqVOcV_Pj_",
        "outputId": "341e9462-7f9e-4be2-8530-680180e36733"
      },
      "outputs": [
        {
          "name": "stdout",
          "output_type": "stream",
          "text": [
            "6\n"
          ]
        }
      ],
      "source": [
        "print(c)"
      ]
    },
    {
      "cell_type": "code",
      "execution_count": null,
      "metadata": {
        "id": "7yDht9l0_nht"
      },
      "outputs": [],
      "source": [
        "class Classe1:\n",
        "    def __init__(self, atrib1):\n",
        "        self.atrib1 = atrib1\n",
        "\n",
        "    def retornaNovaClasse(self, stringParaIniciarAClasse):\n",
        "      return Classe1(stringParaIniciarAClasse)"
      ]
    },
    {
      "cell_type": "code",
      "execution_count": null,
      "metadata": {
        "id": "4ntaC-0uAS0Q"
      },
      "outputs": [],
      "source": [
        "x = Classe1(\"abc\")"
      ]
    },
    {
      "cell_type": "code",
      "execution_count": null,
      "metadata": {
        "colab": {
          "base_uri": "https://localhost:8080/"
        },
        "id": "Sr8t8k-8AXfB",
        "outputId": "1cce367d-b1e0-4db8-95af-8b624cbe768a"
      },
      "outputs": [
        {
          "name": "stdout",
          "output_type": "stream",
          "text": [
            "abc\n"
          ]
        }
      ],
      "source": [
        "print(x.atrib1)"
      ]
    },
    {
      "cell_type": "code",
      "execution_count": null,
      "metadata": {
        "id": "vLt1UTswAcPB"
      },
      "outputs": [],
      "source": [
        "y = x.retornaNovaClasse(\"computador\")"
      ]
    },
    {
      "cell_type": "code",
      "execution_count": null,
      "metadata": {
        "colab": {
          "base_uri": "https://localhost:8080/"
        },
        "id": "LjgfKgupA2ly",
        "outputId": "b8ab7b17-76aa-4419-ba69-be54b11e8228"
      },
      "outputs": [
        {
          "name": "stdout",
          "output_type": "stream",
          "text": [
            "computador\n"
          ]
        }
      ],
      "source": [
        "print(y.atrib1)"
      ]
    },
    {
      "cell_type": "code",
      "execution_count": null,
      "metadata": {
        "id": "MNmeMjjxCLcz"
      },
      "outputs": [],
      "source": [
        "a * b"
      ]
    },
    {
      "cell_type": "code",
      "execution_count": null,
      "metadata": {
        "colab": {
          "base_uri": "https://localhost:8080/"
        },
        "id": "_3rgF99bDwfe",
        "outputId": "d4cdc84b-81f4-4cbb-b7b5-c133684ebf45"
      },
      "outputs": [
        {
          "data": {
            "text/plain": [
              "False"
            ]
          },
          "execution_count": 25,
          "metadata": {},
          "output_type": "execute_result"
        }
      ],
      "source": [
        "2 > 3"
      ]
    },
    {
      "cell_type": "code",
      "execution_count": null,
      "metadata": {
        "colab": {
          "base_uri": "https://localhost:8080/"
        },
        "id": "K1tDUx4QDzWl",
        "outputId": "49cbe8a8-6189-4c51-b037-266538e5a9ce"
      },
      "outputs": [
        {
          "data": {
            "text/plain": [
              "True"
            ]
          },
          "execution_count": 26,
          "metadata": {},
          "output_type": "execute_result"
        }
      ],
      "source": [
        "3 > 2"
      ]
    },
    {
      "cell_type": "code",
      "execution_count": null,
      "metadata": {
        "colab": {
          "base_uri": "https://localhost:8080/"
        },
        "id": "tyEQZVHEESBy",
        "outputId": "ce56a7d0-af93-4df6-ee0a-fc2c1f2ee7cf"
      },
      "outputs": [
        {
          "data": {
            "text/plain": [
              "False"
            ]
          },
          "execution_count": 28,
          "metadata": {},
          "output_type": "execute_result"
        }
      ],
      "source": [
        "3 == 4"
      ]
    },
    {
      "cell_type": "code",
      "execution_count": null,
      "metadata": {
        "id": "6ERkvMPJEdYx"
      },
      "outputs": [],
      "source": [
        "class Classe2:\n",
        "    def __init__(self, atrib1):\n",
        "        self.atrib1 = atrib1\n",
        "\n",
        "    def __len__(self):\n",
        "      return self.atrib1"
      ]
    },
    {
      "cell_type": "code",
      "execution_count": null,
      "metadata": {
        "id": "a_A9ZEmyErd_"
      },
      "outputs": [],
      "source": [
        "y = [1,2,3,4]"
      ]
    },
    {
      "cell_type": "code",
      "execution_count": null,
      "metadata": {
        "colab": {
          "base_uri": "https://localhost:8080/"
        },
        "id": "k6BrY0M5Et0m",
        "outputId": "5949fee2-aaef-4cb2-ed32-128d4b3a7fb9"
      },
      "outputs": [
        {
          "name": "stdout",
          "output_type": "stream",
          "text": [
            "4\n"
          ]
        }
      ],
      "source": [
        "print(len(y))"
      ]
    },
    {
      "cell_type": "code",
      "execution_count": null,
      "metadata": {
        "id": "tYjJpS7xE2ki"
      },
      "outputs": [],
      "source": [
        "r = Classe2(2.5)"
      ]
    },
    {
      "cell_type": "code",
      "execution_count": null,
      "metadata": {
        "colab": {
          "base_uri": "https://localhost:8080/",
          "height": 141
        },
        "id": "8GwbV5rgE53G",
        "outputId": "13522c25-4de6-4f63-e136-e1921a74643c"
      },
      "outputs": [
        {
          "ename": "TypeError",
          "evalue": "'float' object cannot be interpreted as an integer",
          "output_type": "error",
          "traceback": [
            "\u001b[0;31m---------------------------------------------------------------------------\u001b[0m",
            "\u001b[0;31mTypeError\u001b[0m                                 Traceback (most recent call last)",
            "\u001b[0;32m/tmp/ipython-input-2423905111.py\u001b[0m in \u001b[0;36m<cell line: 0>\u001b[0;34m()\u001b[0m\n\u001b[0;32m----> 1\u001b[0;31m \u001b[0mlen\u001b[0m\u001b[0;34m(\u001b[0m\u001b[0mr\u001b[0m\u001b[0;34m)\u001b[0m\u001b[0;34m\u001b[0m\u001b[0;34m\u001b[0m\u001b[0m\n\u001b[0m",
            "\u001b[0;31mTypeError\u001b[0m: 'float' object cannot be interpreted as an integer"
          ]
        }
      ],
      "source": [
        "len(r)"
      ]
    },
    {
      "cell_type": "code",
      "execution_count": null,
      "metadata": {
        "id": "HQ6qy5LMHfM3"
      },
      "outputs": [],
      "source": [
        "class Classe3:\n",
        "    def __init__(self, atrib1):\n",
        "        self.atrib1 = atrib1\n",
        "\n",
        "    def __add__(self, lala):\n",
        "      return self.atrib1 + lala"
      ]
    },
    {
      "cell_type": "code",
      "execution_count": null,
      "metadata": {
        "id": "B7OpiSrSHqm6"
      },
      "outputs": [],
      "source": [
        "u = Classe3(2)"
      ]
    },
    {
      "cell_type": "code",
      "execution_count": null,
      "metadata": {
        "colab": {
          "base_uri": "https://localhost:8080/",
          "height": 228
        },
        "id": "j1ceRZ0THvTm",
        "outputId": "1167d9d0-6c09-4cbe-8380-3bbe2de226f6"
      },
      "outputs": [
        {
          "ename": "TypeError",
          "evalue": "unsupported operand type(s) for +: 'int' and 'str'",
          "output_type": "error",
          "traceback": [
            "\u001b[0;31m---------------------------------------------------------------------------\u001b[0m",
            "\u001b[0;31mTypeError\u001b[0m                                 Traceback (most recent call last)",
            "\u001b[0;32m/tmp/ipython-input-2823560134.py\u001b[0m in \u001b[0;36m<cell line: 0>\u001b[0;34m()\u001b[0m\n\u001b[0;32m----> 1\u001b[0;31m \u001b[0mu\u001b[0m \u001b[0;34m+\u001b[0m \u001b[0;34m\"abc\"\u001b[0m\u001b[0;34m\u001b[0m\u001b[0;34m\u001b[0m\u001b[0m\n\u001b[0m",
            "\u001b[0;32m/tmp/ipython-input-3780637013.py\u001b[0m in \u001b[0;36m__add__\u001b[0;34m(self, lala)\u001b[0m\n\u001b[1;32m      4\u001b[0m \u001b[0;34m\u001b[0m\u001b[0m\n\u001b[1;32m      5\u001b[0m     \u001b[0;32mdef\u001b[0m \u001b[0m__add__\u001b[0m\u001b[0;34m(\u001b[0m\u001b[0mself\u001b[0m\u001b[0;34m,\u001b[0m \u001b[0mlala\u001b[0m\u001b[0;34m)\u001b[0m\u001b[0;34m:\u001b[0m\u001b[0;34m\u001b[0m\u001b[0;34m\u001b[0m\u001b[0m\n\u001b[0;32m----> 6\u001b[0;31m       \u001b[0;32mreturn\u001b[0m \u001b[0mself\u001b[0m\u001b[0;34m.\u001b[0m\u001b[0matrib1\u001b[0m \u001b[0;34m+\u001b[0m \u001b[0mlala\u001b[0m\u001b[0;34m\u001b[0m\u001b[0;34m\u001b[0m\u001b[0m\n\u001b[0m",
            "\u001b[0;31mTypeError\u001b[0m: unsupported operand type(s) for +: 'int' and 'str'"
          ]
        }
      ],
      "source": [
        "u + \"abc\""
      ]
    },
    {
      "cell_type": "code",
      "execution_count": null,
      "metadata": {
        "id": "K33DkIcaKBtU"
      },
      "outputs": [],
      "source": [
        "class Item:\n",
        "    def __init__(self, nome):\n",
        "        self.nome = nome\n",
        "\n",
        "class CD(Item):\n",
        "    def __init__(self, nome, artista):\n",
        "        super().__init__(nome)\n",
        "        self.artista = artista"
      ]
    },
    {
      "cell_type": "code",
      "execution_count": null,
      "metadata": {
        "id": "bugcqy8xKcmY"
      },
      "outputs": [],
      "source": [
        "cd = CD(\"californication\", \"red hot\")"
      ]
    },
    {
      "cell_type": "code",
      "execution_count": null,
      "metadata": {
        "id": "Ue6L8Q9wKkD0"
      },
      "outputs": [],
      "source": [
        "itm = Item(\"lala\")"
      ]
    },
    {
      "cell_type": "code",
      "execution_count": null,
      "metadata": {
        "id": "I5Uec6IuMrtw"
      },
      "outputs": [],
      "source": [
        "from abc import ABC, abstractmethod\n",
        "class Forma(ABC):\n",
        "  pass\n",
        "  @abstractmethod\n",
        "  def area(self):\n",
        "    pass\n",
        "\n",
        "  def lala(self):\n",
        "    return \"lala\"\n",
        "\n",
        "  @abstractmethod\n",
        "  def lalaforcado(self):\n",
        "    pass\n",
        "class Retangulo(Forma):\n",
        "  def __init__(self, largura, altura):\n",
        "    self.largura = largura\n",
        "    self.altura = altura\n",
        "  def area(self):\n",
        "    return self.largura * self.altura\n",
        "class Circulo(Forma):\n",
        "  def __init__(self, raio):\n",
        "    self.raio = raio\n",
        "  def area(self):\n",
        "    return 3.14 * self.raio**2\n",
        "  def lalaforcado(self):\n",
        "     pass\n"
      ]
    },
    {
      "cell_type": "code",
      "execution_count": null,
      "metadata": {
        "id": "95L-8iCfM3tT"
      },
      "outputs": [],
      "source": [
        "C1 = Circulo(1)"
      ]
    },
    {
      "cell_type": "code",
      "execution_count": null,
      "metadata": {
        "colab": {
          "base_uri": "https://localhost:8080/"
        },
        "id": "RwjPZbbpM6yn",
        "outputId": "c5d7ef33-a4cd-47f0-9138-da7546875b47"
      },
      "outputs": [
        {
          "data": {
            "text/plain": [
              "3.14"
            ]
          },
          "execution_count": 100,
          "metadata": {},
          "output_type": "execute_result"
        }
      ],
      "source": [
        "C1.area()"
      ]
    },
    {
      "cell_type": "code",
      "execution_count": null,
      "metadata": {
        "colab": {
          "base_uri": "https://localhost:8080/",
          "height": 35
        },
        "id": "6elctakuO6yy",
        "outputId": "95002246-e648-4d06-8900-9283e8282a36"
      },
      "outputs": [
        {
          "data": {
            "application/vnd.google.colaboratory.intrinsic+json": {
              "type": "string"
            },
            "text/plain": [
              "'lala'"
            ]
          },
          "execution_count": 101,
          "metadata": {},
          "output_type": "execute_result"
        }
      ],
      "source": [
        "C1.lala()"
      ]
    },
    {
      "cell_type": "code",
      "execution_count": null,
      "metadata": {
        "id": "6BzMV5hcTa2c"
      },
      "outputs": [],
      "source": [
        "from abc import ABC, abstractmethod\n",
        "class Item(ABC):\n",
        "  pass\n",
        "\n",
        "  def setNome(self, nome):\n",
        "    self.nome = nome\n",
        "\n"
      ]
    }
  ],
  "metadata": {
    "colab": {
      "provenance": []
    },
    "kernelspec": {
      "display_name": "Python 3 (ipykernel)",
      "language": "python",
      "name": "python3"
    },
    "language_info": {
      "codemirror_mode": {
        "name": "ipython",
        "version": 3
      },
      "file_extension": ".py",
      "mimetype": "text/x-python",
      "name": "python",
      "nbconvert_exporter": "python",
      "pygments_lexer": "ipython3",
      "version": "3.11.6"
    }
  },
  "nbformat": 4,
  "nbformat_minor": 0
}
