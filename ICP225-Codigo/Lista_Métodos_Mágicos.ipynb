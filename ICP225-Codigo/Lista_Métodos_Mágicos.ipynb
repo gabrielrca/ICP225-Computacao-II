{
  "nbformat": 4,
  "nbformat_minor": 0,
  "metadata": {
    "colab": {
      "provenance": []
    },
    "kernelspec": {
      "name": "python3",
      "display_name": "Python 3"
    },
    "language_info": {
      "name": "python"
    }
  },
  "cells": [
    {
      "cell_type": "code",
      "execution_count": null,
      "metadata": {
        "id": "zZ4Wp1_iXSkJ"
      },
      "outputs": [],
      "source": [
        "class Pessoa:\n",
        "    def __init__(self, nome, nomePai, nomeMae,  idade, cpf, altura):\n",
        "        self.nomePai = nomePai\n",
        "        self.nomeMae = nomeMae\n",
        "        self.nome = nome\n",
        "        self.idade = idade\n",
        "        self.cpf = cpf\n",
        "        self.altura = altura\n",
        "\n",
        "    def __add__(self, other):\n",
        "        return self.idade + other.idade\n",
        "\n",
        "    def __sub__(self, other):\n",
        "        return self.idade - other.idade\n",
        "\n",
        "    def __mul__(self, other):\n",
        "        print(\"nome do pai: \", other.nome)\n",
        "        print(\"nome da mae: \", self.nome)\n",
        "        return Pessoa(\"FilhoNovo\", other.nome, self.nome,  0, \"00000000000\", 0)\n",
        "\n",
        "    def __gt__(self, other):\n",
        "        return self.idade > other.idade\n",
        "\n",
        "    def __lt__(self, other):\n",
        "        return self.idade < other.idade\n",
        "\n",
        "    def __eq__(self, other):\n",
        "        return self.cpf == other.cpf\n",
        "\n",
        "    def __len__(self):\n",
        "        return self.altura\n",
        "\n",
        "    def __str__(self):\n",
        "        return (f\"nome={self.nome}, idade={self.idade}, cpf={self.cpf}, altura={self.altura}, pai={self.nomePai}, mãe={self.nomeMae}\")\n",
        "\n",
        "    def setNome(self, nome):\n",
        "      self.nome = nome"
      ]
    },
    {
      "cell_type": "code",
      "source": [
        "p1 = Pessoa(\"Carlos\", \"João\", \"Maria\",  30, \"12345678900\", 175)\n",
        "p2 = Pessoa(\"Fernanda\", \"José\", \"Ana\",  25, \"98765432100\", 165)"
      ],
      "metadata": {
        "id": "iEe_K90e3R7k"
      },
      "execution_count": null,
      "outputs": []
    },
    {
      "cell_type": "code",
      "source": [
        "print(\"p1:\", p1)\n",
        "print(\"p2:\", p2)1\n",
        "\n",
        "\n"
      ],
      "metadata": {
        "colab": {
          "base_uri": "https://localhost:8080/"
        },
        "id": "j7VfKe8R3VH-",
        "outputId": "5b9f84a4-0ccd-4301-d3e7-7fdf3b49b459"
      },
      "execution_count": null,
      "outputs": [
        {
          "output_type": "stream",
          "name": "stdout",
          "text": [
            "p1: nome=Carlos, idade=30, cpf=12345678900, altura=175, pai=João, mãe=Maria\n",
            "p2: nome=Fernanda, idade=25, cpf=98765432100, altura=165, pai=José, mãe=Ana\n"
          ]
        }
      ]
    },
    {
      "cell_type": "code",
      "source": [
        "print(\"p1 e p2 são a mesma pessoa?\", p1 == p2)"
      ],
      "metadata": {
        "colab": {
          "base_uri": "https://localhost:8080/"
        },
        "id": "tCNAlqaE5eUG",
        "outputId": "21d37bc6-e52c-4fc6-a7de-54af08bf8b22"
      },
      "execution_count": null,
      "outputs": [
        {
          "output_type": "stream",
          "name": "stdout",
          "text": [
            "p1 e p2 são a mesma pessoa? False\n"
          ]
        }
      ]
    },
    {
      "cell_type": "code",
      "source": [
        "print(\"Diferença das idades:\", p1 - p2, \" anos\")"
      ],
      "metadata": {
        "colab": {
          "base_uri": "https://localhost:8080/"
        },
        "id": "r1YC7YD05OWo",
        "outputId": "c46fddd3-7ac8-4373-b9eb-5538e718995e"
      },
      "execution_count": null,
      "outputs": [
        {
          "output_type": "stream",
          "name": "stdout",
          "text": [
            "Diferença das idades: 5  anos\n"
          ]
        }
      ]
    },
    {
      "cell_type": "code",
      "source": [
        "print(\"Altura de p1 é:\", len(p1), \"cm\")"
      ],
      "metadata": {
        "colab": {
          "base_uri": "https://localhost:8080/"
        },
        "id": "_8QQPycY57Be",
        "outputId": "6d541ecf-5644-4e66-a0c3-bce69bcb9fa6"
      },
      "execution_count": null,
      "outputs": [
        {
          "output_type": "stream",
          "name": "stdout",
          "text": [
            "Altura de p1 é: 175 cm\n"
          ]
        }
      ]
    },
    {
      "cell_type": "code",
      "source": [
        "print(\"Altura de p2 é:\", len(p2), \"cm\")"
      ],
      "metadata": {
        "colab": {
          "base_uri": "https://localhost:8080/"
        },
        "id": "IRb_qcwk59uG",
        "outputId": "4f68b597-494a-46f8-ca89-aabd81abd168"
      },
      "execution_count": null,
      "outputs": [
        {
          "output_type": "stream",
          "name": "stdout",
          "text": [
            "Altura de p2 é: 165 cm\n"
          ]
        }
      ]
    },
    {
      "cell_type": "code",
      "source": [
        "print(\"p1 é mais velho que p2 ?\", p1 > p2)\n",
        "print(\"p1 é mais novo que p2 ?\", p1 < p2)"
      ],
      "metadata": {
        "colab": {
          "base_uri": "https://localhost:8080/"
        },
        "id": "U8RWoige6HN9",
        "outputId": "f23bb98c-1d0a-4c1d-92ea-573247ec4dde"
      },
      "execution_count": null,
      "outputs": [
        {
          "output_type": "stream",
          "name": "stdout",
          "text": [
            "p1 é mais velho que p2 ? True\n",
            "p1 é mais novo que p2 ? False\n"
          ]
        }
      ]
    },
    {
      "cell_type": "code",
      "source": [
        "filho = p2 * p1\n",
        "print(\"Filho de p1 e p2:\", filho)"
      ],
      "metadata": {
        "colab": {
          "base_uri": "https://localhost:8080/"
        },
        "id": "9-ALShoS6NZ-",
        "outputId": "4bd8bf7f-7760-4f98-bb31-00ac993b86a8"
      },
      "execution_count": null,
      "outputs": [
        {
          "output_type": "stream",
          "name": "stdout",
          "text": [
            "nome do pai:  Carlos\n",
            "nome da mae:  Fernanda\n",
            "Filho de p1 e p2: nome=FilhoNovo, idade=0, cpf=00000000000, altura=0, pai=Carlos, mãe=Fernanda\n"
          ]
        }
      ]
    },
    {
      "cell_type": "code",
      "source": [
        "filho.setNome(\"Pedro\")"
      ],
      "metadata": {
        "id": "tkpOFVf76Yo0"
      },
      "execution_count": null,
      "outputs": []
    },
    {
      "cell_type": "code",
      "source": [
        "print(\"Filho de p1 e p2:\", filho)\n"
      ],
      "metadata": {
        "colab": {
          "base_uri": "https://localhost:8080/"
        },
        "id": "nuN2DzRy5vXp",
        "outputId": "0f27bcdf-7061-4e10-b1b7-fe4ea2ccc882"
      },
      "execution_count": null,
      "outputs": [
        {
          "output_type": "stream",
          "name": "stdout",
          "text": [
            "Filho de p1 e p2: nome=Pedro, idade=0, cpf=00000000000, altura=0, pai=Carlos, mãe=Fernanda\n"
          ]
        }
      ]
    },
    {
      "cell_type": "markdown",
      "source": [
        "#Questão 2"
      ],
      "metadata": {
        "id": "W4Nkm_a76x_M"
      }
    },
    {
      "cell_type": "code",
      "source": [
        "a = int(input(\"Digite o primeiro número (a): \"))\n",
        "b = int(input(\"Digite o segundo número (b): \"))"
      ],
      "metadata": {
        "colab": {
          "base_uri": "https://localhost:8080/"
        },
        "id": "-OCY98oX6zWE",
        "outputId": "5de11fdf-3aa4-4574-9647-a45a546d6940"
      },
      "execution_count": null,
      "outputs": [
        {
          "name": "stdout",
          "output_type": "stream",
          "text": [
            "Digite o primeiro número (a): 2\n",
            "Digite o segundo número (b): 2\n"
          ]
        }
      ]
    },
    {
      "cell_type": "code",
      "source": [
        "soma = a.__add__(b)\n",
        "subtracao = a.__sub__(b)\n",
        "multiplicacao = a.__mul__(b)\n",
        "divisao = a.__truediv__(b)"
      ],
      "metadata": {
        "id": "iZxvGYdX61Lk"
      },
      "execution_count": null,
      "outputs": []
    },
    {
      "cell_type": "code",
      "source": [
        "print(f\"O resultado da soma é {soma}\")\n",
        "print(f\"O resultado da subtração é {subtracao}\")\n",
        "print(f\"O resultado da multiplicação é {multiplicacao}\")\n",
        "print(f\"O resultado da divisão é {divisao}\")"
      ],
      "metadata": {
        "colab": {
          "base_uri": "https://localhost:8080/"
        },
        "id": "AYi2CY_m61-t",
        "outputId": "c51c67d8-d27c-44b6-b858-6e4ebc09c228"
      },
      "execution_count": null,
      "outputs": [
        {
          "output_type": "stream",
          "name": "stdout",
          "text": [
            "O resultado da soma é 4\n",
            "O resultado da subtração é 0\n",
            "O resultado da multiplicação é 4\n",
            "O resultado da divisão é 1.0\n"
          ]
        }
      ]
    },
    {
      "cell_type": "markdown",
      "source": [
        "#Questão 3"
      ],
      "metadata": {
        "id": "2H1lf7Py7NTh"
      }
    },
    {
      "cell_type": "code",
      "source": [
        "class Funcionario:\n",
        "    def __init__(self, nome, salarioBase):\n",
        "        self.nome = nome\n",
        "        self.salarioBase = salarioBase\n",
        "\n",
        "    def getSalarioTotal(self):\n",
        "        return self.salarioBase\n",
        "\n",
        "    def getSalarioBase(self):\n",
        "      return self.salarioBase\n",
        "\n",
        "    def __gt__(self, other):\n",
        "        return self.getSalarioTotal() > other.getSalarioTotal()\n",
        "\n",
        "    def __str__(self):\n",
        "        return f\"Funcionario : nome={self.nome}, salarioBase={self.salarioBase}\"\n",
        "\n",
        "\n",
        "class Gerente(Funcionario):\n",
        "    def __init__(self, nome, salarioBase, bonus):\n",
        "        super().__init__(nome, salarioBase)\n",
        "        self.bonus = bonus\n",
        "\n",
        "    def getSalarioTotal(self):\n",
        "        return self.salarioBase + self.bonus\n",
        "\n",
        "    def getBonus(self):\n",
        "      return self.bonus\n",
        "\n",
        "    def __add__(self, adiçãoDeBonus):\n",
        "        self.bonus = self.bonus + adiçãoDeBonus\n",
        "        return self.bonus\n",
        "\n",
        "    def __str__(self):\n",
        "        return (f\"Gerente : nome={self.nome}, salarioBase={self.salarioBase}, bonus={self.bonus}, salarioTotal={self.getSalarioTotal()}\")\n",
        "\n",
        "\n"
      ],
      "metadata": {
        "id": "XDV2L9M_7Our"
      },
      "execution_count": null,
      "outputs": []
    },
    {
      "cell_type": "code",
      "source": [
        "f1 = Funcionario(\"Alice\", 30)\n",
        "f2 = Funcionario(\"Bruno\", 35)\n",
        "\n",
        "g1 = Gerente(\"Carlos\", 40, 20)\n",
        "g2 = Gerente(\"Diana\", 45, 20)\n",
        "\n",
        "print(f1)\n",
        "print(f2)\n",
        "print(g1)\n",
        "print(g2)\n",
        "\n"
      ],
      "metadata": {
        "colab": {
          "base_uri": "https://localhost:8080/"
        },
        "id": "NMzASKZY7Qzf",
        "outputId": "6684219f-78ba-480e-83a6-9f25a7d974d4"
      },
      "execution_count": null,
      "outputs": [
        {
          "output_type": "stream",
          "name": "stdout",
          "text": [
            "Funcionario : nome=Alice, salarioBase=30\n",
            "Funcionario : nome=Bruno, salarioBase=35\n",
            "Gerente : nome=Carlos, salarioBase=40, bonus=20, salarioTotal=60\n",
            "Gerente : nome=Diana, salarioBase=45, bonus=20, salarioTotal=65\n"
          ]
        }
      ]
    },
    {
      "cell_type": "code",
      "source": [
        "print(f1.getSalarioTotal())\n",
        "print(g1.getSalarioTotal())"
      ],
      "metadata": {
        "colab": {
          "base_uri": "https://localhost:8080/"
        },
        "id": "jVDQ9x678JMp",
        "outputId": "7dea723b-d463-4489-9c84-0cda5b258aff"
      },
      "execution_count": null,
      "outputs": [
        {
          "output_type": "stream",
          "name": "stdout",
          "text": [
            "30\n",
            "60\n"
          ]
        }
      ]
    },
    {
      "cell_type": "code",
      "source": [
        "print(\"O salário de g1: \" , g1.getSalarioTotal())\n",
        "print(\"O salário de f1: \" , f1.getSalarioTotal())\n",
        "print(\"O salário de g1 é maior que o salario de f1? \", g1 > f1)"
      ],
      "metadata": {
        "colab": {
          "base_uri": "https://localhost:8080/"
        },
        "id": "IAknH2kj7UAZ",
        "outputId": "1429a41f-0e51-45ec-e423-25837ff09135"
      },
      "execution_count": null,
      "outputs": [
        {
          "output_type": "stream",
          "name": "stdout",
          "text": [
            "O salário de g1:  60\n",
            "O salário de f1:  30\n",
            "O salário de g1 é maior que o salario de f1?  True\n"
          ]
        }
      ]
    },
    {
      "cell_type": "code",
      "source": [
        "print(\"O salário de g1: \" , g1.getSalarioTotal())\n",
        "print(\"O salário de g2: \" , g2.getSalarioTotal())\n",
        "print(\"O salário de g1 é maior que o salario de g2? \", g1 > g2)"
      ],
      "metadata": {
        "colab": {
          "base_uri": "https://localhost:8080/"
        },
        "id": "6_erjeDx8j_X",
        "outputId": "70370ba2-e319-457f-9d30-470d1cb6ee57"
      },
      "execution_count": null,
      "outputs": [
        {
          "output_type": "stream",
          "name": "stdout",
          "text": [
            "O salário de g1:  60\n",
            "O salário de g2:  65\n",
            "O salário de g1 é maior que o salario de g2?  False\n"
          ]
        }
      ]
    },
    {
      "cell_type": "code",
      "source": [
        "g1.getBonus()"
      ],
      "metadata": {
        "colab": {
          "base_uri": "https://localhost:8080/"
        },
        "id": "PPJeKbEfI1vJ",
        "outputId": "7136a03a-eac1-4fa0-938d-949b576cd25f"
      },
      "execution_count": null,
      "outputs": [
        {
          "output_type": "execute_result",
          "data": {
            "text/plain": [
              "20"
            ]
          },
          "metadata": {},
          "execution_count": 33
        }
      ]
    },
    {
      "cell_type": "code",
      "source": [
        "print(\"Relatorio mes a mês do salário de g1 em um ano com aumento de 10 no seu bonus por mês\")\n",
        "\n",
        "for i in range(12):\n",
        "  g1 + 10     #Discussão: O que há de estranho nesta construção?\n",
        "  print(\"Mes \", i)\n",
        "  print(\"O salário Base de g1: \", g1.getSalarioBase())\n",
        "  print(\"O bonus de g1: \", g1.getBonus())\n",
        "  print(\"O salário TOTAL de g1: \" , g1.getSalarioTotal())"
      ],
      "metadata": {
        "colab": {
          "base_uri": "https://localhost:8080/"
        },
        "id": "VN66SBi783yT",
        "outputId": "0b6f8464-1f97-47d6-e6eb-b54cf9e18200"
      },
      "execution_count": null,
      "outputs": [
        {
          "output_type": "stream",
          "name": "stdout",
          "text": [
            "Relatorio mes a mês do salário de g1 em um ano com aumento de 10 no seu bonus por mês\n",
            "Mes  0\n",
            "O salário Base de g1:  40\n",
            "O bonus de g1:  30\n",
            "O salário TOTAL de g1:  70\n",
            "Mes  1\n",
            "O salário Base de g1:  40\n",
            "O bonus de g1:  40\n",
            "O salário TOTAL de g1:  80\n",
            "Mes  2\n",
            "O salário Base de g1:  40\n",
            "O bonus de g1:  50\n",
            "O salário TOTAL de g1:  90\n",
            "Mes  3\n",
            "O salário Base de g1:  40\n",
            "O bonus de g1:  60\n",
            "O salário TOTAL de g1:  100\n",
            "Mes  4\n",
            "O salário Base de g1:  40\n",
            "O bonus de g1:  70\n",
            "O salário TOTAL de g1:  110\n",
            "Mes  5\n",
            "O salário Base de g1:  40\n",
            "O bonus de g1:  80\n",
            "O salário TOTAL de g1:  120\n",
            "Mes  6\n",
            "O salário Base de g1:  40\n",
            "O bonus de g1:  90\n",
            "O salário TOTAL de g1:  130\n",
            "Mes  7\n",
            "O salário Base de g1:  40\n",
            "O bonus de g1:  100\n",
            "O salário TOTAL de g1:  140\n",
            "Mes  8\n",
            "O salário Base de g1:  40\n",
            "O bonus de g1:  110\n",
            "O salário TOTAL de g1:  150\n",
            "Mes  9\n",
            "O salário Base de g1:  40\n",
            "O bonus de g1:  120\n",
            "O salário TOTAL de g1:  160\n",
            "Mes  10\n",
            "O salário Base de g1:  40\n",
            "O bonus de g1:  130\n",
            "O salário TOTAL de g1:  170\n",
            "Mes  11\n",
            "O salário Base de g1:  40\n",
            "O bonus de g1:  140\n",
            "O salário TOTAL de g1:  180\n"
          ]
        }
      ]
    },
    {
      "cell_type": "code",
      "source": [
        "g1.getBonus()"
      ],
      "metadata": {
        "id": "lOlt4LCoI-q1",
        "outputId": "d68e1b97-8f93-429e-b52e-065028f9f4a3",
        "colab": {
          "base_uri": "https://localhost:8080/"
        }
      },
      "execution_count": null,
      "outputs": [
        {
          "output_type": "execute_result",
          "data": {
            "text/plain": [
              "140"
            ]
          },
          "metadata": {},
          "execution_count": 35
        }
      ]
    }
  ]
}