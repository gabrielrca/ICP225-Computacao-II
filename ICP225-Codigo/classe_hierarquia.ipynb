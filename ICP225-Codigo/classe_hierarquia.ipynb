{
 "cells": [
  {
   "cell_type": "code",
   "execution_count": 50,
   "id": "1a9561a5",
   "metadata": {},
   "outputs": [],
   "source": [
    "from abc import ABC, abstractmethod\n",
    "\n",
    "class A(ABC):\n",
    "    var_a = 800000\n",
    "\n",
    "    @abstractmethod\n",
    "    def metodo1(self):\n",
    "        pass"
   ]
  },
  {
   "cell_type": "code",
   "execution_count": 69,
   "id": "a6c1f27e",
   "metadata": {},
   "outputs": [],
   "source": [
    "from abc import ABC, abstractmethod\n",
    "\n",
    "class Item(ABC):\n",
    "    def __init__(self, titulo):\n",
    "        self.titulo = titulo\n",
    "\n",
    "    def getTitulo(self):\n",
    "        return self.titulo\n",
    "\n",
    "    @abstractmethod\n",
    "    def getType(self):\n",
    "        pass"
   ]
  },
  {
   "cell_type": "code",
   "execution_count": 70,
   "id": "64c467e9",
   "metadata": {},
   "outputs": [],
   "source": [
    "class B(Item):\n",
    "    var_a = 9999999999\n",
    "    def getType(self):\n",
    "        pass"
   ]
  },
  {
   "cell_type": "code",
   "execution_count": 71,
   "id": "898af049",
   "metadata": {},
   "outputs": [],
   "source": [
    "class C(B):\n",
    "    pass"
   ]
  },
  {
   "cell_type": "code",
   "execution_count": 72,
   "id": "ff7315fc",
   "metadata": {},
   "outputs": [],
   "source": [
    "c = C(\"aaa\")"
   ]
  },
  {
   "cell_type": "code",
   "execution_count": 73,
   "id": "397b4fd8",
   "metadata": {},
   "outputs": [
    {
     "name": "stdout",
     "output_type": "stream",
     "text": [
      "aaa\n"
     ]
    }
   ],
   "source": [
    "print(c.getTitulo())"
   ]
  },
  {
   "cell_type": "code",
   "execution_count": 83,
   "id": "6a97f450",
   "metadata": {},
   "outputs": [
    {
     "name": "stdout",
     "output_type": "stream",
     "text": [
      "False\n"
     ]
    }
   ],
   "source": [
    "i = 2\n",
    "j = 3\n",
    "\n",
    "print(i>j)"
   ]
  },
  {
   "cell_type": "code",
   "execution_count": 87,
   "id": "4fcda8f5",
   "metadata": {},
   "outputs": [],
   "source": [
    "if(False):\n",
    "    print(\"menor\")"
   ]
  },
  {
   "cell_type": "code",
   "execution_count": 123,
   "id": "450117ce",
   "metadata": {},
   "outputs": [],
   "source": [
    "class Teste1:\n",
    "    def __init__(self, atributo1, atributo2):\n",
    "        self.__atributo1 = atributo1\n",
    "        self.__atributo2 = atributo2\n",
    "\n",
    "    # Getters\n",
    "    def get_atributo1(self):\n",
    "        return self.__atributo1\n",
    "\n",
    "    def get_atributo2(self):\n",
    "        return self.__atributo2\n",
    "\n",
    "    # Setters\n",
    "    def set_atributo1(self, valor):\n",
    "        if(valor >= 3):\n",
    "            self.__atributo1 = valor\n",
    "            return True\n",
    "        return False\n",
    "        \n",
    "\n",
    "    def set_atributo2(self, valor):\n",
    "        self.__atributo2 = valor"
   ]
  },
  {
   "cell_type": "code",
   "execution_count": 124,
   "id": "c7fb139f",
   "metadata": {},
   "outputs": [
    {
     "name": "stdout",
     "output_type": "stream",
     "text": [
      "3\n"
     ]
    }
   ],
   "source": [
    "t1 = Teste1(\"a\", \"b\")\n",
    "valor_retornado = t1.set_atributo1(3)\n",
    "print(t1.get_atributo1())"
   ]
  },
  {
   "cell_type": "code",
   "execution_count": 125,
   "id": "b50b7795",
   "metadata": {},
   "outputs": [
    {
     "name": "stdout",
     "output_type": "stream",
     "text": [
      "True\n"
     ]
    }
   ],
   "source": [
    "print(valor_retornado)"
   ]
  },
  {
   "cell_type": "code",
   "execution_count": null,
   "id": "0d4509d2",
   "metadata": {},
   "outputs": [],
   "source": []
  }
 ],
 "metadata": {
  "kernelspec": {
   "display_name": "Python 3 (ipykernel)",
   "language": "python",
   "name": "python3"
  },
  "language_info": {
   "codemirror_mode": {
    "name": "ipython",
    "version": 3
   },
   "file_extension": ".py",
   "mimetype": "text/x-python",
   "name": "python",
   "nbconvert_exporter": "python",
   "pygments_lexer": "ipython3",
   "version": "3.10.12"
  }
 },
 "nbformat": 4,
 "nbformat_minor": 5
}
